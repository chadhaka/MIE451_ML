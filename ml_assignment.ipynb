{
 "cells": [
  {
   "cell_type": "code",
   "execution_count": 1,
   "metadata": {
    "collapsed": true
   },
   "outputs": [],
   "source": [
    "    # show the matplotlib plotted graph within notebook lines.\n",
    "import matplotlib.pyplot as plt\n",
    "%matplotlib inline\n",
    "import seaborn as sns"
   ]
  },
  {
   "cell_type": "markdown",
   "metadata": {},
   "source": [
    "### In case that your tqdm is not installed. Please go to the Start(Windows)->Anaconda2(64-bit)->Anaconda Prompt(py35)\n",
    "\n",
    "### type: conda install tqdm -y"
   ]
  },
  {
   "cell_type": "code",
   "execution_count": 2,
   "metadata": {},
   "outputs": [
    {
     "name": "stderr",
     "output_type": "stream",
     "text": [
      "C:\\Anaconda\\envs\\py35\\lib\\site-packages\\sklearn\\cross_validation.py:44: DeprecationWarning: This module was deprecated in version 0.18 in favor of the model_selection module into which all the refactored classes and functions are moved. Also note that the interface of the new CV iterators are different from that of this module. This module will be removed in 0.20.\n",
      "  \"This module will be removed in 0.20.\", DeprecationWarning)\n",
      "C:\\Anaconda\\envs\\py35\\lib\\site-packages\\sklearn\\grid_search.py:43: DeprecationWarning: This module was deprecated in version 0.18 in favor of the model_selection module into which all the refactored classes and functions are moved. This module will be removed in 0.20.\n",
      "  DeprecationWarning)\n"
     ]
    }
   ],
   "source": [
    "# import required libraries\n",
    "# pandas:Data framework library for Python\n",
    "# sklearn: Library to perform machine learning tasks\n",
    "import os\n",
    "import time\n",
    "from tqdm import tqdm\n",
    "import pandas as pd\n",
    "import numpy as np\n",
    "import scipy\n",
    "import scipy.stats as st\n",
    "import re\n",
    "import codecs\n",
    "from collections import Counter\n",
    "import nltk\n",
    "from nltk.stem import *\n",
    "from nltk.corpus import stopwords\n",
    "#nltk.download(\"popular\")\n",
    "import sklearn \n",
    "import sklearn.datasets\n",
    "import sklearn.metrics as metrics \n",
    "from sklearn.metrics import accuracy_score\n",
    "from sklearn.naive_bayes import GaussianNB\n",
    "from sklearn.linear_model import LogisticRegression\n",
    "from sklearn.cross_validation import StratifiedKFold\n",
    "from sklearn.svm import SVC\n",
    "from sklearn.grid_search import GridSearchCV\n",
    "from sklearn.metrics import classification_report\n",
    "from sklearn.cross_validation import train_test_split\n",
    "from sklearn.preprocessing import label_binarize\n",
    "from sklearn.feature_selection import mutual_info_classif\n",
    "from scipy import stats"
   ]
  },
  {
   "cell_type": "code",
   "execution_count": 3,
   "metadata": {},
   "outputs": [
    {
     "name": "stderr",
     "output_type": "stream",
     "text": [
      "gzip: 20news-19997.tar already exists;\tnot overwritten\n"
     ]
    }
   ],
   "source": [
    "# extract data\n",
    "!gzip -d -k 20news-19997.tar.gz\n",
    "\n",
    "!tar -xf 20news-19997.tar"
   ]
  },
  {
   "cell_type": "code",
   "execution_count": 4,
   "metadata": {},
   "outputs": [
    {
     "name": "stdout",
     "output_type": "stream",
     "text": [
      "alt.atheism\n",
      "comp.graphics\n",
      "comp.os.ms-windows.misc\n",
      "comp.sys.ibm.pc.hardware\n",
      "comp.sys.mac.hardware\n",
      "comp.windows.x\n",
      "misc.forsale\n",
      "rec.autos\n",
      "rec.motorcycles\n",
      "rec.sport.baseball\n",
      "rec.sport.hockey\n",
      "sci.crypt\n",
      "sci.electronics\n",
      "sci.med\n",
      "sci.space\n",
      "soc.religion.christian\n",
      "talk.politics.guns\n",
      "talk.politics.mideast\n",
      "talk.politics.misc\n",
      "talk.religion.misc\n"
     ]
    }
   ],
   "source": [
    "# display newsgroups directories\n",
    "!ls 20_newsgroups"
   ]
  },
  {
   "cell_type": "markdown",
   "metadata": {},
   "source": [
    "## Support functions"
   ]
  },
  {
   "cell_type": "code",
   "execution_count": 5,
   "metadata": {
    "collapsed": true
   },
   "outputs": [],
   "source": [
    "def getFilesDirectory(datapath='20_newsgroups'):\n",
    "    # create file directory for all files\n",
    "    files = []\n",
    "    for (path, dirnames, filenames) in os.walk(datapath):\n",
    "        files.extend(os.path.join(path, name) for name in filenames)\n",
    "    # putting file directories into pandas dataframe\n",
    "    directorydf= pd.DataFrame(files)\n",
    "    directorydf.columns = ['Directories']\n",
    "    return directorydf"
   ]
  },
  {
   "cell_type": "code",
   "execution_count": 6,
   "metadata": {},
   "outputs": [
    {
     "data": {
      "text/html": [
       "<div>\n",
       "<style>\n",
       "    .dataframe thead tr:only-child th {\n",
       "        text-align: right;\n",
       "    }\n",
       "\n",
       "    .dataframe thead th {\n",
       "        text-align: left;\n",
       "    }\n",
       "\n",
       "    .dataframe tbody tr th {\n",
       "        vertical-align: top;\n",
       "    }\n",
       "</style>\n",
       "<table border=\"1\" class=\"dataframe\">\n",
       "  <thead>\n",
       "    <tr style=\"text-align: right;\">\n",
       "      <th></th>\n",
       "      <th>Directories</th>\n",
       "    </tr>\n",
       "  </thead>\n",
       "  <tbody>\n",
       "    <tr>\n",
       "      <th>0</th>\n",
       "      <td>20_newsgroups\\alt.atheism\\49960</td>\n",
       "    </tr>\n",
       "    <tr>\n",
       "      <th>1</th>\n",
       "      <td>20_newsgroups\\alt.atheism\\51060</td>\n",
       "    </tr>\n",
       "    <tr>\n",
       "      <th>2</th>\n",
       "      <td>20_newsgroups\\alt.atheism\\51119</td>\n",
       "    </tr>\n",
       "    <tr>\n",
       "      <th>3</th>\n",
       "      <td>20_newsgroups\\alt.atheism\\51120</td>\n",
       "    </tr>\n",
       "    <tr>\n",
       "      <th>4</th>\n",
       "      <td>20_newsgroups\\alt.atheism\\51121</td>\n",
       "    </tr>\n",
       "    <tr>\n",
       "      <th>5</th>\n",
       "      <td>20_newsgroups\\alt.atheism\\51122</td>\n",
       "    </tr>\n",
       "    <tr>\n",
       "      <th>6</th>\n",
       "      <td>20_newsgroups\\alt.atheism\\51123</td>\n",
       "    </tr>\n",
       "    <tr>\n",
       "      <th>7</th>\n",
       "      <td>20_newsgroups\\alt.atheism\\51124</td>\n",
       "    </tr>\n",
       "    <tr>\n",
       "      <th>8</th>\n",
       "      <td>20_newsgroups\\alt.atheism\\51125</td>\n",
       "    </tr>\n",
       "    <tr>\n",
       "      <th>9</th>\n",
       "      <td>20_newsgroups\\alt.atheism\\51126</td>\n",
       "    </tr>\n",
       "  </tbody>\n",
       "</table>\n",
       "</div>"
      ],
      "text/plain": [
       "                       Directories\n",
       "0  20_newsgroups\\alt.atheism\\49960\n",
       "1  20_newsgroups\\alt.atheism\\51060\n",
       "2  20_newsgroups\\alt.atheism\\51119\n",
       "3  20_newsgroups\\alt.atheism\\51120\n",
       "4  20_newsgroups\\alt.atheism\\51121\n",
       "5  20_newsgroups\\alt.atheism\\51122\n",
       "6  20_newsgroups\\alt.atheism\\51123\n",
       "7  20_newsgroups\\alt.atheism\\51124\n",
       "8  20_newsgroups\\alt.atheism\\51125\n",
       "9  20_newsgroups\\alt.atheism\\51126"
      ]
     },
     "execution_count": 6,
     "metadata": {},
     "output_type": "execute_result"
    }
   ],
   "source": [
    "directorydf = getFilesDirectory()\n",
    "directorydf.head(n=10)"
   ]
  },
  {
   "cell_type": "code",
   "execution_count": 7,
   "metadata": {
    "collapsed": true
   },
   "outputs": [],
   "source": [
    "# create function to help encoding the targets\n",
    "#mapping labels to numbers\n",
    "def label_target (d):\n",
    "    if d.find(\"alt.atheism\") > 0 :\n",
    "      return 0\n",
    "    if d.find(\"comp.graphics\") > 0:\n",
    "      return 1\n",
    "    if d.find(\"comp.os.ms-windows.misc\") > 0:\n",
    "      return 2\n",
    "    if d.find(\"comp.sys.ibm.pc.hardware\") > 0:\n",
    "      return 3\n",
    "    if d.find(\"comp.sys.mac.hardware\") > 0:\n",
    "      return 4\n",
    "    if d.find(\"comp.windows.x\") > 0:\n",
    "      return 5\n",
    "    if d.find(\"misc.forsale\") > 0:\n",
    "      return 6\n",
    "    if d.find(\"rec.autos\") > 0:\n",
    "      return 7\n",
    "    if d.find(\"rec.motorcycles\") > 0:\n",
    "      return 8\n",
    "    if d.find(\"rec.sport.baseball\") > 0:\n",
    "      return 9\n",
    "    if d.find(\"rec.sport.hockey\") > 0:\n",
    "      return 10\n",
    "    if d.find(\"sci.crypt\") > 0:\n",
    "      return 11\n",
    "    if d.find(\"sci.electronics\") > 0:\n",
    "      return 12\n",
    "    if d.find(\"sci.med\") > 0:\n",
    "      return 13\n",
    "    if d.find(\"sci.space\") > 0:\n",
    "      return 14\n",
    "    if d.find(\"soc.religion.christian\") > 0:\n",
    "      return 15\n",
    "    if d.find(\"talk.politics.guns\") > 0:\n",
    "      return 16\n",
    "    if d.find(\"talk.politics.mideast\") > 0:\n",
    "      return 17\n",
    "    if d.find(\"talk.politics.misc\") > 0:\n",
    "      return 18\n",
    "    if d.find(\"talk.religion.misc\") > 0:\n",
    "      return 19\n",
    "    return 'Other'"
   ]
  },
  {
   "cell_type": "markdown",
   "metadata": {},
   "source": [
    "## Q1"
   ]
  },
  {
   "cell_type": "markdown",
   "metadata": {},
   "source": [
    "### (a)"
   ]
  },
  {
   "cell_type": "markdown",
   "metadata": {
    "collapsed": true
   },
   "source": [
    "i. Removed stopwords as when selecting features these words exist will exist in all and would be bad examples of features.  Lowercased the words as well as the meaning between a capitalized word and lowercased word is the same\n",
    "ii. Ranked features using term frequency. The most common words would generally showcase what the document is about thus if a word contains a of the same words it like belongs to the target\n",
    "iii. \n"
   ]
  },
  {
   "cell_type": "markdown",
   "metadata": {},
   "source": [
    "### (b)"
   ]
  },
  {
   "cell_type": "code",
   "execution_count": 8,
   "metadata": {
    "collapsed": true
   },
   "outputs": [],
   "source": [
    "def dataPreprocessor(k, fs, encode, directorydf, size=None):\n",
    "    \"\"\"\n",
    "    INPUT\n",
    "        k: int. number of features to use\n",
    "        fs: string. From ['tf', 'mi']\n",
    "        encode: string. From ['tf', 'boolean']\n",
    "        drectorydf: Dataframe. It is given, see above support functions\n",
    "        size: int. Sample size. Default should be the data size.\n",
    "    OUTPUT\n",
    "        data: Dataframe. preprocessed data\n",
    "    \n",
    "    ps: 'tf' means term frequency, 'mi' means mutual information\n",
    "    \"\"\"\n",
    "    \n",
    "    \n",
    "    ########### your code goes here ###########\n",
    "# Used code from https://stackoverflow.com/questions/19130512/stopword-removal-with-nltk\n",
    "    if size == None:\n",
    "        size = directorydf.size\n",
    "    counter = Counter()\n",
    "    stopList = set(stopwords.words('english'))\n",
    "    #wordList = set (words.words('en'))\n",
    "    #numbers = list(str(range(0,10)))\n",
    "    \n",
    "# Open the files and count the word frequency in each file in a loop and update the counter after finished processing a file\n",
    "\n",
    "    for rownum, row in enumerate(directorydf.itertuples()):\n",
    "        if rownum == (size+1):\n",
    "            break;\n",
    "        with codecs.open(row.Directories,\"r\" ,encoding='utf-8', errors='ignore') as myfile:\n",
    "            counter.update([word.lower() for word in re.findall(r'\\w+', myfile.read()) if word.lower() not in stopList and word.lower().isalpha()])\n",
    "  \n",
    "   # with codecs.open(row.Directories,\"r\" ,encoding='utf-8', errors='ignore') as myfile:\n",
    "    #    data2=myfile.readlines()    \n",
    "        \n",
    "        #k is sent by user aka feature selection number\n",
    "        \n",
    "        topk = counter.most_common(k)\n",
    "        #print(topk)\n",
    "    \n",
    "    \n",
    "    \n",
    "    np = []\n",
    "    # now we had top k words, count the frequecy (binary) of these words in individual file\n",
    "    for rownum, row in enumerate(directorydf.itertuples()):\n",
    "        if rownum == (size+1):\n",
    "            break;\n",
    "        with codecs.open(row.Directories,\"r\" ,encoding='utf-8', errors='ignore') as myfile:\n",
    "            tempCounter = Counter([word.lower() for word in re.findall(r'\\w+', myfile.read()) if word.lower() not in stopList and word.lower().isalpha()])\n",
    "             \n",
    "            \n",
    "        \n",
    "            # if the word appears in the doc, then 1, else \n",
    "            if encode == 'tf':\n",
    "                topkinDoc = [tempCounter[word] if tempCounter[word] > 0 else 0 for (word,wordCount) in topk]\n",
    "            else:\n",
    "                topkinDoc = [1 if tempCounter[word] > 0 else 0 for (word,wordCount) in topk]\n",
    "            # create a list for top k words with encoded target and its label\n",
    "            \n",
    "            np.append(topkinDoc+[label_target(row.Directories)]+[row.Directories])\n",
    "            if (rownum % 1000 == 0):\n",
    "                print(\"processed %d files\" % (rownum+1))\n",
    "    \n",
    "    \n",
    "    data = pd.DataFrame(np)\n",
    "    dfName = []\n",
    "    for c in topk:\n",
    "        dfName.append(c[0])\n",
    "    data.columns = dfName+['target','label']\n",
    "    \n",
    "    ###########         end         ###########\n",
    "    return data"
   ]
  },
  {
   "cell_type": "code",
   "execution_count": 9,
   "metadata": {},
   "outputs": [
    {
     "name": "stdout",
     "output_type": "stream",
     "text": [
      "processed 1 files\n",
      "processed 1001 files\n",
      "processed 2001 files\n",
      "processed 3001 files\n",
      "processed 4001 files\n",
      "processed 5001 files\n",
      "41.465651512145996\n"
     ]
    }
   ],
   "source": [
    "import time\n",
    "\n",
    "start = time.time()\n",
    "data = dataPreprocessor(k=100, fs='tf', encode='tf', directorydf=directorydf,size=5000)\n",
    "end = time.time()\n",
    "print(end - start)"
   ]
  },
  {
   "cell_type": "code",
   "execution_count": 10,
   "metadata": {},
   "outputs": [
    {
     "data": {
      "text/html": [
       "<div>\n",
       "<style>\n",
       "    .dataframe thead tr:only-child th {\n",
       "        text-align: right;\n",
       "    }\n",
       "\n",
       "    .dataframe thead th {\n",
       "        text-align: left;\n",
       "    }\n",
       "\n",
       "    .dataframe tbody tr th {\n",
       "        vertical-align: top;\n",
       "    }\n",
       "</style>\n",
       "<table border=\"1\" class=\"dataframe\">\n",
       "  <thead>\n",
       "    <tr style=\"text-align: right;\">\n",
       "      <th></th>\n",
       "      <th>ax</th>\n",
       "      <th>edu</th>\n",
       "      <th>cmu</th>\n",
       "      <th>cs</th>\n",
       "      <th>com</th>\n",
       "      <th>comp</th>\n",
       "      <th>news</th>\n",
       "      <th>srv</th>\n",
       "      <th>net</th>\n",
       "      <th>cantaloupe</th>\n",
       "      <th>...</th>\n",
       "      <th>image</th>\n",
       "      <th>europa</th>\n",
       "      <th>sei</th>\n",
       "      <th>gtefsd</th>\n",
       "      <th>ece</th>\n",
       "      <th>uunet</th>\n",
       "      <th>problem</th>\n",
       "      <th>computer</th>\n",
       "      <th>target</th>\n",
       "      <th>label</th>\n",
       "    </tr>\n",
       "  </thead>\n",
       "  <tbody>\n",
       "    <tr>\n",
       "      <th>0</th>\n",
       "      <td>0</td>\n",
       "      <td>10</td>\n",
       "      <td>5</td>\n",
       "      <td>3</td>\n",
       "      <td>1</td>\n",
       "      <td>0</td>\n",
       "      <td>4</td>\n",
       "      <td>3</td>\n",
       "      <td>2</td>\n",
       "      <td>2</td>\n",
       "      <td>...</td>\n",
       "      <td>0</td>\n",
       "      <td>0</td>\n",
       "      <td>1</td>\n",
       "      <td>0</td>\n",
       "      <td>0</td>\n",
       "      <td>1</td>\n",
       "      <td>0</td>\n",
       "      <td>0</td>\n",
       "      <td>0</td>\n",
       "      <td>20_newsgroups\\alt.atheism\\49960</td>\n",
       "    </tr>\n",
       "    <tr>\n",
       "      <th>1</th>\n",
       "      <td>0</td>\n",
       "      <td>5</td>\n",
       "      <td>4</td>\n",
       "      <td>3</td>\n",
       "      <td>1</td>\n",
       "      <td>0</td>\n",
       "      <td>3</td>\n",
       "      <td>3</td>\n",
       "      <td>1</td>\n",
       "      <td>2</td>\n",
       "      <td>...</td>\n",
       "      <td>0</td>\n",
       "      <td>1</td>\n",
       "      <td>0</td>\n",
       "      <td>1</td>\n",
       "      <td>1</td>\n",
       "      <td>0</td>\n",
       "      <td>2</td>\n",
       "      <td>0</td>\n",
       "      <td>0</td>\n",
       "      <td>20_newsgroups\\alt.atheism\\51060</td>\n",
       "    </tr>\n",
       "    <tr>\n",
       "      <th>2</th>\n",
       "      <td>0</td>\n",
       "      <td>7</td>\n",
       "      <td>3</td>\n",
       "      <td>4</td>\n",
       "      <td>3</td>\n",
       "      <td>0</td>\n",
       "      <td>2</td>\n",
       "      <td>2</td>\n",
       "      <td>1</td>\n",
       "      <td>1</td>\n",
       "      <td>...</td>\n",
       "      <td>0</td>\n",
       "      <td>1</td>\n",
       "      <td>0</td>\n",
       "      <td>1</td>\n",
       "      <td>1</td>\n",
       "      <td>0</td>\n",
       "      <td>1</td>\n",
       "      <td>0</td>\n",
       "      <td>0</td>\n",
       "      <td>20_newsgroups\\alt.atheism\\51119</td>\n",
       "    </tr>\n",
       "    <tr>\n",
       "      <th>3</th>\n",
       "      <td>0</td>\n",
       "      <td>6</td>\n",
       "      <td>4</td>\n",
       "      <td>3</td>\n",
       "      <td>1</td>\n",
       "      <td>0</td>\n",
       "      <td>1</td>\n",
       "      <td>3</td>\n",
       "      <td>1</td>\n",
       "      <td>2</td>\n",
       "      <td>...</td>\n",
       "      <td>0</td>\n",
       "      <td>1</td>\n",
       "      <td>0</td>\n",
       "      <td>1</td>\n",
       "      <td>1</td>\n",
       "      <td>1</td>\n",
       "      <td>0</td>\n",
       "      <td>0</td>\n",
       "      <td>0</td>\n",
       "      <td>20_newsgroups\\alt.atheism\\51120</td>\n",
       "    </tr>\n",
       "    <tr>\n",
       "      <th>4</th>\n",
       "      <td>0</td>\n",
       "      <td>4</td>\n",
       "      <td>4</td>\n",
       "      <td>3</td>\n",
       "      <td>10</td>\n",
       "      <td>0</td>\n",
       "      <td>0</td>\n",
       "      <td>3</td>\n",
       "      <td>1</td>\n",
       "      <td>2</td>\n",
       "      <td>...</td>\n",
       "      <td>0</td>\n",
       "      <td>1</td>\n",
       "      <td>0</td>\n",
       "      <td>1</td>\n",
       "      <td>1</td>\n",
       "      <td>1</td>\n",
       "      <td>0</td>\n",
       "      <td>0</td>\n",
       "      <td>0</td>\n",
       "      <td>20_newsgroups\\alt.atheism\\51121</td>\n",
       "    </tr>\n",
       "    <tr>\n",
       "      <th>5</th>\n",
       "      <td>0</td>\n",
       "      <td>5</td>\n",
       "      <td>3</td>\n",
       "      <td>3</td>\n",
       "      <td>7</td>\n",
       "      <td>0</td>\n",
       "      <td>1</td>\n",
       "      <td>2</td>\n",
       "      <td>1</td>\n",
       "      <td>1</td>\n",
       "      <td>...</td>\n",
       "      <td>0</td>\n",
       "      <td>1</td>\n",
       "      <td>0</td>\n",
       "      <td>1</td>\n",
       "      <td>1</td>\n",
       "      <td>0</td>\n",
       "      <td>0</td>\n",
       "      <td>0</td>\n",
       "      <td>0</td>\n",
       "      <td>20_newsgroups\\alt.atheism\\51122</td>\n",
       "    </tr>\n",
       "    <tr>\n",
       "      <th>6</th>\n",
       "      <td>0</td>\n",
       "      <td>13</td>\n",
       "      <td>3</td>\n",
       "      <td>5</td>\n",
       "      <td>2</td>\n",
       "      <td>0</td>\n",
       "      <td>0</td>\n",
       "      <td>2</td>\n",
       "      <td>2</td>\n",
       "      <td>1</td>\n",
       "      <td>...</td>\n",
       "      <td>0</td>\n",
       "      <td>1</td>\n",
       "      <td>0</td>\n",
       "      <td>1</td>\n",
       "      <td>1</td>\n",
       "      <td>1</td>\n",
       "      <td>0</td>\n",
       "      <td>0</td>\n",
       "      <td>0</td>\n",
       "      <td>20_newsgroups\\alt.atheism\\51123</td>\n",
       "    </tr>\n",
       "    <tr>\n",
       "      <th>7</th>\n",
       "      <td>0</td>\n",
       "      <td>8</td>\n",
       "      <td>3</td>\n",
       "      <td>3</td>\n",
       "      <td>1</td>\n",
       "      <td>0</td>\n",
       "      <td>1</td>\n",
       "      <td>2</td>\n",
       "      <td>1</td>\n",
       "      <td>1</td>\n",
       "      <td>...</td>\n",
       "      <td>0</td>\n",
       "      <td>1</td>\n",
       "      <td>0</td>\n",
       "      <td>1</td>\n",
       "      <td>1</td>\n",
       "      <td>0</td>\n",
       "      <td>0</td>\n",
       "      <td>0</td>\n",
       "      <td>0</td>\n",
       "      <td>20_newsgroups\\alt.atheism\\51124</td>\n",
       "    </tr>\n",
       "    <tr>\n",
       "      <th>8</th>\n",
       "      <td>0</td>\n",
       "      <td>9</td>\n",
       "      <td>3</td>\n",
       "      <td>2</td>\n",
       "      <td>4</td>\n",
       "      <td>0</td>\n",
       "      <td>0</td>\n",
       "      <td>2</td>\n",
       "      <td>1</td>\n",
       "      <td>1</td>\n",
       "      <td>...</td>\n",
       "      <td>0</td>\n",
       "      <td>1</td>\n",
       "      <td>0</td>\n",
       "      <td>1</td>\n",
       "      <td>1</td>\n",
       "      <td>0</td>\n",
       "      <td>0</td>\n",
       "      <td>0</td>\n",
       "      <td>0</td>\n",
       "      <td>20_newsgroups\\alt.atheism\\51125</td>\n",
       "    </tr>\n",
       "    <tr>\n",
       "      <th>9</th>\n",
       "      <td>0</td>\n",
       "      <td>14</td>\n",
       "      <td>3</td>\n",
       "      <td>2</td>\n",
       "      <td>3</td>\n",
       "      <td>0</td>\n",
       "      <td>1</td>\n",
       "      <td>2</td>\n",
       "      <td>2</td>\n",
       "      <td>1</td>\n",
       "      <td>...</td>\n",
       "      <td>0</td>\n",
       "      <td>1</td>\n",
       "      <td>0</td>\n",
       "      <td>1</td>\n",
       "      <td>1</td>\n",
       "      <td>1</td>\n",
       "      <td>0</td>\n",
       "      <td>0</td>\n",
       "      <td>0</td>\n",
       "      <td>20_newsgroups\\alt.atheism\\51126</td>\n",
       "    </tr>\n",
       "  </tbody>\n",
       "</table>\n",
       "<p>10 rows × 102 columns</p>\n",
       "</div>"
      ],
      "text/plain": [
       "   ax  edu  cmu  cs  com  comp  news  srv  net  cantaloupe  \\\n",
       "0   0   10    5   3    1     0     4    3    2           2   \n",
       "1   0    5    4   3    1     0     3    3    1           2   \n",
       "2   0    7    3   4    3     0     2    2    1           1   \n",
       "3   0    6    4   3    1     0     1    3    1           2   \n",
       "4   0    4    4   3   10     0     0    3    1           2   \n",
       "5   0    5    3   3    7     0     1    2    1           1   \n",
       "6   0   13    3   5    2     0     0    2    2           1   \n",
       "7   0    8    3   3    1     0     1    2    1           1   \n",
       "8   0    9    3   2    4     0     0    2    1           1   \n",
       "9   0   14    3   2    3     0     1    2    2           1   \n",
       "\n",
       "                ...                 image  europa  sei  gtefsd  ece  uunet  \\\n",
       "0               ...                     0       0    1       0    0      1   \n",
       "1               ...                     0       1    0       1    1      0   \n",
       "2               ...                     0       1    0       1    1      0   \n",
       "3               ...                     0       1    0       1    1      1   \n",
       "4               ...                     0       1    0       1    1      1   \n",
       "5               ...                     0       1    0       1    1      0   \n",
       "6               ...                     0       1    0       1    1      1   \n",
       "7               ...                     0       1    0       1    1      0   \n",
       "8               ...                     0       1    0       1    1      0   \n",
       "9               ...                     0       1    0       1    1      1   \n",
       "\n",
       "   problem  computer  target                            label  \n",
       "0        0         0       0  20_newsgroups\\alt.atheism\\49960  \n",
       "1        2         0       0  20_newsgroups\\alt.atheism\\51060  \n",
       "2        1         0       0  20_newsgroups\\alt.atheism\\51119  \n",
       "3        0         0       0  20_newsgroups\\alt.atheism\\51120  \n",
       "4        0         0       0  20_newsgroups\\alt.atheism\\51121  \n",
       "5        0         0       0  20_newsgroups\\alt.atheism\\51122  \n",
       "6        0         0       0  20_newsgroups\\alt.atheism\\51123  \n",
       "7        0         0       0  20_newsgroups\\alt.atheism\\51124  \n",
       "8        0         0       0  20_newsgroups\\alt.atheism\\51125  \n",
       "9        0         0       0  20_newsgroups\\alt.atheism\\51126  \n",
       "\n",
       "[10 rows x 102 columns]"
      ]
     },
     "execution_count": 10,
     "metadata": {},
     "output_type": "execute_result"
    }
   ],
   "source": [
    "data.head(n=10)"
   ]
  },
  {
   "cell_type": "markdown",
   "metadata": {},
   "source": [
    "### (c)"
   ]
  },
  {
   "cell_type": "code",
   "execution_count": 11,
   "metadata": {
    "collapsed": true
   },
   "outputs": [],
   "source": [
    "#Confidence Interval Function\n",
    "import scipy.stats\n",
    "from math import sqrt\n",
    "def mean_confidence_interval(data, confidence=0.95):\n",
    "    a = 1.0*np.array(data)\n",
    "    n = len(a)\n",
    "    mu,sd = np.mean(a),np.std(a)\n",
    "    z = stats.t.ppf(confidence, n)\n",
    "    h=z*sd/sqrt(n)\n",
    "    return mu, h"
   ]
  },
  {
   "cell_type": "code",
   "execution_count": 12,
   "metadata": {},
   "outputs": [],
   "source": [
    "    def randomSplitCI(data, clf, num_run, **params):\n",
    "\n",
    "        \"\"\"\n",
    "        INPUT\n",
    "            data: 2D numpy array. Pre-processed data\n",
    "            clf: string. Name of the classifier from ['LR', 'SVM', 'NB']\n",
    "            num_run: int. How many times you want to run for random evaluation?\n",
    "            params: string->real. Hyper-parameter of classifier. PS: c=1.0, r=0.01\n",
    "\n",
    "        OUTPUT\n",
    "            train_scores: list. Results of trails\n",
    "            test_scores: list. Results of trails\n",
    "            train_mean: scalar. Average accuracy\n",
    "            test_mean: scalar. Average accuracy\n",
    "            train_ci: scalar. Confidence Interval\n",
    "            test_ci: scalar. Confidence Interval\n",
    "        \"\"\"\n",
    "    \n",
    "    \n",
    "        ########### your code goes here ###########\n",
    "        #for hp in params:\n",
    "        \n",
    "            #print(hp_value)\n",
    "        num = 0\n",
    "        train_scores = []\n",
    "        test_scores = []\n",
    "        if clf == 'LR':\n",
    "            hp = params['c']\n",
    "            clfType = LogisticRegression(C=hp)\n",
    "        else:\n",
    "            clfType = GaussianNB()\n",
    "\n",
    "        column_df = data.columns[:-2]\n",
    "        column_df = list(column_df)\n",
    "        \n",
    "        featureLabels=[]\n",
    "        for word in column_df:\n",
    "            featureLabels.append(word)\n",
    "\n",
    "        features_df = data[featureLabels]\n",
    "        features = features_df.as_matrix()\n",
    "\n",
    "        target_df= data['target']\n",
    "        target = target_df.as_matrix()\n",
    "\n",
    "        labels = data['label'].unique()\n",
    "        while num < num_run:\n",
    "            feature_train, feature_test, target_train, target_test = train_test_split(features, target, test_size = 0.3)\n",
    "            #, stratify = target\n",
    "            #print(feature_train)\n",
    "            print(\"Round: \" , num)\n",
    "            \n",
    "            clfModel = clfType.fit(feature_train, target_train, None)\n",
    "            target_pred_train = clfModel.predict(feature_train)\n",
    "            target_pred_test = clfModel.predict(feature_test)\n",
    "\n",
    "            train_scores.append(metrics.accuracy_score(target_train,target_pred_train))\n",
    "            test_scores.append(metrics.accuracy_score(target_test,target_pred_test))\n",
    "           \n",
    "            num = num + 1\n",
    "\n",
    "\n",
    "\n",
    "        train_mean, train_ci = mean_confidence_interval(train_scores)\n",
    "        test_mean, test_ci = mean_confidence_interval(test_scores)\n",
    "\n",
    "\n",
    "\n",
    "        ###########         end         ###########\n",
    "        return train_scores,test_scores,train_mean,test_mean,train_ci,test_ci\n",
    "    "
   ]
  },
  {
   "cell_type": "code",
   "execution_count": 13,
   "metadata": {},
   "outputs": [
    {
     "name": "stdout",
     "output_type": "stream",
     "text": [
      "Round:  0\n",
      "Round:  1\n",
      "Round:  2\n",
      "Round:  3\n",
      "Round:  4\n",
      "Round:  5\n",
      "Round:  6\n",
      "Round:  7\n",
      "Round:  8\n",
      "Round:  9\n",
      "Train    \n",
      "Result of trails:[0.59799999999999998, 0.56428571428571428, 0.54314285714285715, 0.57171428571428573, 0.54571428571428571, 0.58085714285714285, 0.54514285714285715, 0.5714285714285714, 0.54314285714285715, 0.60171428571428576]     \n",
      "Average Accuracy: 0.5665142857142857     \n",
      "Confidence Interval: 0.01212330546107579\n",
      "\n",
      "Test    \n",
      "Result of trails:[0.61692205196535643, 0.5376415722851432, 0.54097268487674888, 0.57361758827448373, 0.53297801465689543, 0.58960692871419051, 0.51965356429047305, 0.54763491005996001, 0.53097934710193206, 0.60626249167221857]     \n",
      "Average Accuracy: 0.5596269153897402     \n",
      "Confidence Interval: 0.018709664451538374\n"
     ]
    }
   ],
   "source": [
    "train_scores,test_scores,train_mean,test_mean,train_ci,test_ci = randomSplitCI(data, 'NB', 10, c=1.0)\n",
    "print(\"Train\\\n",
    "    \\nResult of trails:{0} \\\n",
    "    \\nAverage Accuracy: {1} \\\n",
    "    \\nConfidence Interval: {2}\\n\".format(train_scores, train_mean, train_ci)\n",
    "     )\n",
    "print(\"Test\\\n",
    "    \\nResult of trails:{0} \\\n",
    "    \\nAverage Accuracy: {1} \\\n",
    "    \\nConfidence Interval: {2}\".format(test_scores, test_mean, test_ci)\n",
    "     )"
   ]
  },
  {
   "cell_type": "code",
   "execution_count": null,
   "metadata": {
    "collapsed": true
   },
   "outputs": [],
   "source": []
  },
  {
   "cell_type": "markdown",
   "metadata": {},
   "source": [
    "### (d)"
   ]
  },
  {
   "cell_type": "code",
   "execution_count": null,
   "metadata": {
    "collapsed": true
   },
   "outputs": [],
   "source": []
  },
  {
   "cell_type": "markdown",
   "metadata": {},
   "source": [
    "### (e)"
   ]
  },
  {
   "cell_type": "code",
   "execution_count": 14,
   "metadata": {
    "collapsed": true
   },
   "outputs": [],
   "source": [
    "def randomSplitCM(data, clf, num_run, **params):\n",
    "    \"\"\"\n",
    "    INPUT\n",
    "        data: Dataframe. Pre-processed data\n",
    "        clf: string. Name of the classifier from ['LR', 'SVM', 'NB']\n",
    "        params: string->real. Hyper-parameter of classifier. PS: c=1.0, r=0.01\n",
    "    \n",
    "    OUTPUT\n",
    "        cm: pandas.DataFrame. Confusion Matrix\n",
    "    \"\"\"\n",
    "    \n",
    "    \n",
    "    ########### your code goes here ###########\n",
    "    num = 0\n",
    "    cms = {}\n",
    "    if clf == 'LR':\n",
    "        clfType = LogisticRegression(C=params['c'])\n",
    "    else:\n",
    "        clfType = GaussianNB()\n",
    "\n",
    "    column_df = data.columns[:-2]\n",
    "    column_df = list(column_df)\n",
    "        \n",
    "    featureLabels=[]\n",
    "    for word in column_df:\n",
    "        featureLabels.append(word)\n",
    "\n",
    "    features_df = data[featureLabels]\n",
    "    features = features_df.as_matrix()\n",
    "\n",
    "    target_df= data['target']\n",
    "    target = target_df.as_matrix()\n",
    "\n",
    "    labels = data['label'].unique()\n",
    "\n",
    "\n",
    "    while num < num_run:\n",
    "        \n",
    "        feature_train, feature_test, target_train, target_test = train_test_split(features, target, test_size = 0.3)\n",
    "        #, stratify = target\n",
    "        #print(feature_train)\n",
    "        print(\"Round: \" , num)\n",
    "\n",
    "        clfModel = clfType.fit(feature_train, target_train, None)\n",
    "        #target_pred_train = clfModel.predict(feature_train)\n",
    "        target_pred_test = clfModel.predict(feature_test)\n",
    "        \n",
    "        cms[num] = pd.DataFrame(metrics.confusion_matrix(target_test, target_pred_test))\n",
    "        num = num + 1\n",
    "\n",
    "    pl = pd.Panel(cms)\n",
    "    cm = pl.sum(axis=0)\n",
    "    \n",
    "    \n",
    "    ###########         end         ###########\n",
    "    return cm"
   ]
  },
  {
   "cell_type": "code",
   "execution_count": 15,
   "metadata": {},
   "outputs": [
    {
     "name": "stdout",
     "output_type": "stream",
     "text": [
      "Round:  0\n",
      "Round:  1\n",
      "Round:  2\n",
      "Round:  3\n",
      "Round:  4\n",
      "Round:  5\n",
      "Round:  6\n",
      "Round:  7\n",
      "Round:  8\n",
      "Round:  9\n"
     ]
    },
    {
     "name": "stderr",
     "output_type": "stream",
     "text": [
      "C:\\Anaconda\\envs\\py35\\lib\\site-packages\\ipykernel\\__main__.py:1: DeprecationWarning: \n",
      "Panel is deprecated and will be removed in a future version.\n",
      "The recommended way to represent these types of 3-dimensional data are with a MultiIndex on a DataFrame, via the Panel.to_frame() method\n",
      "Alternatively, you can use the xarray package http://xarray.pydata.org/en/stable/.\n",
      "Pandas provides a `.to_xarray()` method to help automate this conversion.\n",
      "\n",
      "  if __name__ == '__main__':\n"
     ]
    }
   ],
   "source": [
    "cm = randomSplitCM(data, 'LR', 10, c=1.0)"
   ]
  },
  {
   "cell_type": "markdown",
   "metadata": {},
   "source": [
    "### (f)"
   ]
  },
  {
   "cell_type": "code",
   "execution_count": 16,
   "metadata": {},
   "outputs": [
    {
     "data": {
      "text/plain": [
       "<matplotlib.axes._subplots.AxesSubplot at 0x20d4456f208>"
      ]
     },
     "execution_count": 16,
     "metadata": {},
     "output_type": "execute_result"
    },
    {
     "data": {
      "image/png": "[encoded data removed]",
      "text/plain": [
       "<matplotlib.figure.Figure at 0x20d44580278>"
      ]
     },
     "metadata": {},
     "output_type": "display_data"
    }
   ],
   "source": [
    "sns.heatmap(cm)"
   ]
  },
  {
   "cell_type": "markdown",
   "metadata": {},
   "source": [
    "## Q2"
   ]
  },
  {
   "cell_type": "markdown",
   "metadata": {},
   "source": [
    "### (a)"
   ]
  },
  {
   "cell_type": "code",
   "execution_count": 17,
   "metadata": {
    "collapsed": true
   },
   "outputs": [],
   "source": [
    "def featureSizeAC(data, clf, num_run, **params):\n",
    "    \"\"\"\n",
    "    INPUT\n",
    "        data: Dataframe. Pre-processed data\n",
    "        clf: string. Name of the classifier from ['LR', 'SVM', 'NB']\n",
    "        params: string->real. Hyper-parameter of classifier. PS: c=1.0, r=0.01\n",
    "    \n",
    "    OUTPUT\n",
    "        train_mean_fs: list.\n",
    "        train_ci_fs: list.\n",
    "        test_mean_fs: list.\n",
    "        test_ci_fs: list.\n",
    "        \n",
    "    \"\"\"\n",
    "    feature_percentage = np.linspace(0.1, 1, 10, endpoint=True)\n",
    "    \n",
    "    ########### your code goes here ###########\n",
    "    \n",
    "    train_mean_fs = []\n",
    "    train_ci_fs = []\n",
    "    test_mean_fs = []\n",
    "    test_ci_fs = []\n",
    "    \n",
    "    count=0\n",
    "    for num_feature in feature_percentage:\n",
    "        print(\"Round: \" , count)\n",
    "        count = count + 1\n",
    "        \n",
    "        num = 0\n",
    "        \n",
    "        \n",
    "        \n",
    "        train_scores = []\n",
    "        test_scores = []\n",
    "        if clf == 'LR':\n",
    "            hp = params['c']\n",
    "            clfType = LogisticRegression(C=hp)\n",
    "        else:\n",
    "            clfType = GaussianNB()\n",
    "\n",
    "        column_df = data.columns[:-2]\n",
    "        column_df = list(column_df)\n",
    "        \n",
    "        np.random.shuffle(column_df)\n",
    "        \n",
    "        feature_stop = int(num_feature*len(column_df))\n",
    "        column_df = column_df[:feature_stop]\n",
    "        print(column_df)\n",
    "        \n",
    "        featureLabels=[]\n",
    "        for word in column_df:\n",
    "            featureLabels.append(word)\n",
    "\n",
    "        features_df = data[featureLabels]\n",
    "        features = features_df.as_matrix()\n",
    "\n",
    "        target_df= data['target']\n",
    "        target = target_df.as_matrix()\n",
    "\n",
    "        labels = data['label'].unique()\n",
    "        while num < num_run:\n",
    "            feature_train, feature_test, target_train, target_test = train_test_split(features, target, test_size = 0.3)\n",
    "            #, stratify = target\n",
    "            #print(feature_train)\n",
    "            #print(\"Round: \" , num)\n",
    "            \n",
    "            clfModel = clfType.fit(feature_train, target_train, None)\n",
    "            target_pred_train = clfModel.predict(feature_train)\n",
    "            target_pred_test = clfModel.predict(feature_test)\n",
    "\n",
    "            train_scores.append(metrics.accuracy_score(target_train,target_pred_train))\n",
    "            test_scores.append(metrics.accuracy_score(target_test,target_pred_test))\n",
    "           \n",
    "            num = num + 1\n",
    "\n",
    "\n",
    "\n",
    "        train_mean, train_ci = mean_confidence_interval(train_scores)\n",
    "        test_mean, test_ci = mean_confidence_interval(test_scores)\n",
    "        \n",
    "        train_mean_fs.append(train_mean)\n",
    "        train_ci_fs.append(train_ci)\n",
    "        test_mean_fs.append(test_mean)\n",
    "        test_ci_fs.append(test_ci)\n",
    "\n",
    "        \n",
    "        \n",
    "        \n",
    "\n",
    "    \n",
    "    \n",
    "    \n",
    "    ###########         end         ###########\n",
    "    return train_mean_fs, train_ci_fs, test_mean_fs, test_ci_fs"
   ]
  },
  {
   "cell_type": "code",
   "execution_count": 18,
   "metadata": {},
   "outputs": [
    {
     "name": "stdout",
     "output_type": "stream",
     "text": [
      "Round:  0\n",
      "['may', 'pc', 'windows', 'state', 'comp', 'srv', 'news', 'c', 'near', 'uunet']\n",
      "Round:  1\n",
      "['h', 'references', 'crabapple', 'would', 'cmu', 'news', 'k', 'atheism', 'reston', 'know', 'howland', 'drive', 'near', 'os', 'image', 'u', 'gmt', 'cc', 'cs', 'posting']\n",
      "Round:  2\n",
      "['k', 'posting', 'ca', 'ac', 'university', 'u', 'like', 'l', 'also', 'reston', 'date', 'harvard', 'nntp', 'apr', 'people', 'das', 'ax', 'z', 'near', 'writes', 'windows', 'cs', 'n', 'pc', 'eng', 'ibm', 'cc', 'gmt', 'howland', 'sys']\n",
      "Round:  3\n",
      "['usenet', 'sys', 'srv', 'newsgroups', 'net', 'image', 'ans', 'b', 'think', 'host', 'problem', 'apr', 'g', 'h', 'com', 'university', 'europa', 'ms', 'comp', 'state', 'misc', 'ac', 'like', 'sei', 'date', 'mps', 'atheism', 'ca', 'would', 'cantaloupe', 'one', 'system', 'de', 'posting', 'subject', 'max', 'gtefsd', 'writes', 'howland', 'alt']\n",
      "Round:  4\n",
      "['cantaloupe', 'europa', 'use', 'subject', 'x', 'organization', 'system', 'file', 'problem', 'ibm', 'edu', 'b', 'misc', 'id', 'people', 'cs', 'cmu', 'usenet', 'host', 'references', 'noc', 'sys', 'ms', 'p', 'sender', 'eng', 'uunet', 'gmt', 'atheism', 'u', 'ohio', 'zaphod', 'w', 'com', 'z', 'mac', 'one', 'university', 'reston', 'alt', 'know', 'g', 'q', 'computer', 'nntp', 'howland', 'article', 'may', 'like', 'k']\n",
      "Round:  5\n",
      "['cs', 'nntp', 'system', 'think', 'v', 'drive', 'srv', 'usenet', 'os', 'id', 'ibm', 'j', 'au', 'eng', 'apr', 'com', 'hardware', 'comp', 'alt', 'ax', 'image', 'u', 'use', 'ece', 'das', 'near', 'howland', 'e', 'people', 'k', 'zaphod', 'ac', 'cc', 'newsgroups', 'file', 'ans', 'x', 'g', 'f', 'misc', 'crabapple', 'cmu', 'subject', 'q', 'organization', 'p', 'references', 'gtefsd', 'pc', 'like', 'would', 'europa', 'get', 'sys', 'may', 'windows', 'edu', 'path', 'gmt', 'l']\n",
      "Round:  6\n",
      "['ans', 'h', 'news', 'gtefsd', 'writes', 'pc', 'newsgroups', 'b', 'misc', 'eng', 'reston', 'references', 'drive', 'europa', 'uk', 'organization', 'de', 'edu', 'com', 'alt', 'f', 'also', 'srv', 'u', 'mps', 'net', 'apr', 'atheism', 'near', 'os', 'problem', 'comp', 'sei', 'use', 'one', 'ece', 'system', 'crabapple', 'c', 'get', 'v', 'max', 'noc', 'mac', 'w', 'zaphod', 'p', 'posting', 'au', 'windows', 'may', 'usenet', 'lines', 'know', 'ohio', 'ca', 'q', 'date', 'x', 'howland', 'would', 'cs', 'gmt', 'hardware', 'k', 'z', 'university', 'image', 'path', 'subject']\n",
      "Round:  7\n",
      "['c', 'misc', 'people', 'atheism', 'university', 'gmt', 'howland', 'l', 'apr', 'b', 'eng', 'z', 'au', 'cc', 'f', 'reston', 'q', 'newsgroups', 'windows', 'x', 'sender', 'sys', 'usenet', 'edu', 'lines', 'drive', 'would', 'writes', 'e', 'cmu', 'image', 'net', 'europa', 'get', 'cs', 'p', 'sei', 'article', 'zaphod', 'near', 'may', 'alt', 'use', 'ans', 'n', 'ohio', 'g', 'message', 'computer', 'gtefsd', 'max', 'also', 'like', 'u', 'noc', 'mps', 'ac', 'subject', 'harvard', 'problem', 'uunet', 'h', 'de', 'r', 'com', 'j', 'date', 'file', 'references', 'think', 'ax', 'cantaloupe', 'organization', 'os', 'k', 'posting', 'crabapple', 'state', 'graphics', 'v']\n",
      "Round:  8\n",
      "['ece', 'ohio', 'q', 'host', 'people', 'noc', 'cantaloupe', 'e', 'cc', 'mac', 'cs', 'h', 'das', 'gmt', 'would', 'apr', 'ibm', 'ax', 'z', 'v', 'n', 'ac', 'windows', 'atheism', 'newsgroups', 'use', 'p', 'ans', 'sys', 'x', 'image', 'misc', 'organization', 'net', 'nntp', 'near', 'europa', 'ca', 'uk', 'uunet', 'university', 'comp', 'date', 'system', 'gtefsd', 'harvard', 'writes', 'l', 'subject', 'references', 'lines', 'reston', 'know', 'r', 'mps', 'com', 'os', 'j', 'like', 'u', 'may', 'alt', 'path', 'w', 'think', 'zaphod', 'howland', 'also', 'hardware', 'drive', 'b', 'srv', 'graphics', 'f', 'sender', 'pc', 'id', 'crabapple', 'get', 'message', 'news', 'usenet', 'max', 'state', 'edu', 'sei', 'one', 'computer', 'au', 'g']\n",
      "Round:  9\n",
      "['cantaloupe', 'date', 'references', 'pc', 'noc', 'would', 'x', 'get', 'state', 'graphics', 'das', 'university', 'people', 'near', 'think', 'com', 'w', 'image', 'newsgroups', 'de', 'gtefsd', 'crabapple', 'au', 'windows', 'atheism', 'q', 'b', 'sei', 'zaphod', 'c', 'max', 'net', 'path', 'cs', 'id', 'like', 'reston', 'mps', 'n', 'z', 'g', 'misc', 'os', 'writes', 'ece', 'eng', 'srv', 'sys', 'l', 'ohio', 'message', 'apr', 'cmu', 'ac', 'edu', 'use', 'also', 'drive', 'mac', 'alt', 'one', 'sender', 'usenet', 'e', 'organization', 'hardware', 'p', 'cc', 'comp', 'may', 'file', 'problem', 'europa', 'know', 'h', 'j', 'u', 'howland', 'k', 'ibm', 'computer', 'gmt', 'news', 'v', 'system', 'ms', 'host', 'nntp', 'posting', 'ca', 'r', 'lines', 'ans', 'f', 'uk', 'uunet', 'harvard', 'article', 'subject', 'ax']\n"
     ]
    }
   ],
   "source": [
    "train_mean_fs, train_ci_fs, test_mean_fs, test_ci_fs = featureSizeAC(data, 'LR', 10, c=1.0)"
   ]
  },
  {
   "cell_type": "markdown",
   "metadata": {},
   "source": [
    "### (b)"
   ]
  },
  {
   "cell_type": "code",
   "execution_count": 19,
   "metadata": {
    "collapsed": true
   },
   "outputs": [],
   "source": [
    "def featureSizePlot(feature_size, train_mean_fs, train_ci_fs, test_mean_fs, test_ci_fs):\n",
    "    # First illustrate basic pyplot interface, using defaults where possible.\n",
    "    plt.figure()\n",
    "    test_curve=plt.errorbar(feature_size, test_mean_fs, color=sns.xkcd_rgb[\"pale red\"], yerr=test_ci_fs)\n",
    "    train_curve=plt.errorbar(feature_size, train_mean_fs,color=sns.xkcd_rgb[\"denim blue\"], yerr=train_ci_fs)\n",
    "    plt.legend([test_curve, train_curve], ['Test', 'Train'])\n",
    "    plt.xlabel('Feature Percentage')\n",
    "    plt.ylabel('Accuracy')\n",
    "    plt.title(\"Accuracy vs Feature Size\")\n",
    "    plt.show()"
   ]
  },
  {
   "cell_type": "code",
   "execution_count": 20,
   "metadata": {},
   "outputs": [
    {
     "data": {
      "image/png": "[encoded data removed]",
      "text/plain": [
       "<matplotlib.figure.Figure at 0x20d44cb9cc0>"
      ]
     },
     "metadata": {},
     "output_type": "display_data"
    }
   ],
   "source": [
    "featureSizePlot(np.linspace(0.1, 1, 10, endpoint=True),train_mean_fs, train_ci_fs, test_mean_fs, test_ci_fs )"
   ]
  },
  {
   "cell_type": "markdown",
   "metadata": {},
   "source": [
    "## Q3"
   ]
  },
  {
   "cell_type": "code",
   "execution_count": 21,
   "metadata": {
    "collapsed": true
   },
   "outputs": [],
   "source": [
    "def hyperParameterAC(data, clf, num_run):\n",
    "    \"\"\"\n",
    "    INPUT\n",
    "        data: Dataframe. Pre-processed data\n",
    "        clf: string. Name of the classifier from ['LR', 'SVM', 'NB']\n",
    "    \n",
    "    OUTPUT\n",
    "        test_mean_hp: list.  mean accuracy list of test\n",
    "        test_ci_hp: list. confidence interval list of test\n",
    "        train_mean_hp: list. mean accuracy list of train\n",
    "        train_ci_hp: list. confidence interval list of train\n",
    "        \n",
    "    NOTE \n",
    "        randomSplitCI could be the sub-route of this function\n",
    "    \"\"\"\n",
    "    params = np.logspace(-4, 4, num=9)\n",
    "\n",
    "\n",
    "    ########### your code goes here ###########\n",
    "    \n",
    "    train_mean_hp = []\n",
    "    train_ci_hp = []\n",
    "    test_mean_hp = []\n",
    "    test_ci_hp = []\n",
    "    \n",
    "    count=0\n",
    "    for c in params:\n",
    "        print(\"Round: \" , count)\n",
    "        count = count + 1\n",
    "        \n",
    "        num = 0\n",
    "        \n",
    "        \n",
    "        \n",
    "        train_scores = []\n",
    "        test_scores = []\n",
    "        if clf == 'LR':\n",
    "            clfType = LogisticRegression(C=c)\n",
    "        else:\n",
    "            clfType = GaussianNB()\n",
    "\n",
    "        column_df = data.columns[:-2]\n",
    "        column_df = list(column_df)\n",
    "        \n",
    "        np.random.shuffle(column_df)\n",
    "        \n",
    "        #feature_stop = int(num_feature*len(column_df))\n",
    "        #column_df = column_df[:feature_stop]\n",
    "        #print(column_df)\n",
    "        \n",
    "        featureLabels=[]\n",
    "        for word in column_df:\n",
    "            featureLabels.append(word)\n",
    "\n",
    "        features_df = data[featureLabels]\n",
    "        features = features_df.as_matrix()\n",
    "\n",
    "        target_df= data['target']\n",
    "        target = target_df.as_matrix()\n",
    "\n",
    "        labels = data['label'].unique()\n",
    "        while num < num_run:\n",
    "            feature_train, feature_test, target_train, target_test = train_test_split(features, target, test_size = 0.3)\n",
    "            #, stratify = target\n",
    "            #print(feature_train)\n",
    "            #print(\"Round: \" , num)\n",
    "            \n",
    "            clfModel = clfType.fit(feature_train, target_train, None)\n",
    "            target_pred_train = clfModel.predict(feature_train)\n",
    "            target_pred_test = clfModel.predict(feature_test)\n",
    "\n",
    "            train_scores.append(metrics.accuracy_score(target_train,target_pred_train))\n",
    "            test_scores.append(metrics.accuracy_score(target_test,target_pred_test))\n",
    "           \n",
    "            num = num + 1\n",
    "\n",
    "\n",
    "\n",
    "        train_mean, train_ci = mean_confidence_interval(train_scores)\n",
    "        test_mean, test_ci = mean_confidence_interval(test_scores)\n",
    "        \n",
    "        train_mean_hp.append(train_mean)\n",
    "        train_ci_hp.append(train_ci)\n",
    "        test_mean_hp.append(test_mean)\n",
    "        test_ci_hp.append(test_ci)\n",
    "  \n",
    "    \n",
    "    \n",
    "    \n",
    "    ###########         end         ###########\n",
    "    return train_mean_hp, train_ci_hp, test_mean_hp, test_ci_hp"
   ]
  },
  {
   "cell_type": "code",
   "execution_count": 22,
   "metadata": {},
   "outputs": [
    {
     "name": "stdout",
     "output_type": "stream",
     "text": [
      "Round:  0\n",
      "Round:  1\n",
      "Round:  2\n",
      "Round:  3\n",
      "Round:  4\n",
      "Round:  5\n",
      "Round:  6\n",
      "Round:  7\n",
      "Round:  8\n"
     ]
    }
   ],
   "source": [
    "train_mean_hp, train_ci_hp, test_mean_hp, test_ci_hp = hyperParameterAC(data, 'LR', 3)"
   ]
  },
  {
   "cell_type": "code",
   "execution_count": 23,
   "metadata": {
    "collapsed": true
   },
   "outputs": [],
   "source": [
    "def hyperParameterPlot(params, train_mean_hp, train_ci_hp, test_mean_hp, test_ci_hp):\n",
    "    # First illustrate basic pyplot interface, using defaults where possible.\n",
    "    plt.figure()\n",
    "    test_curve=plt.errorbar(params, test_mean_hp, color=sns.xkcd_rgb[\"pale red\"], yerr=test_ci_hp)\n",
    "    train_curve=plt.errorbar(params, train_mean_hp,color=sns.xkcd_rgb[\"denim blue\"], yerr=train_ci_hp)\n",
    "    plt.legend([test_curve, train_curve], ['Test', 'Train'])\n",
    "    plt.xlabel('Parameter')\n",
    "    plt.xscale(\"log\")\n",
    "    plt.ylabel('Accuracy')\n",
    "    plt.title(\"Accuracy vs Parameters\")\n",
    "    plt.show()"
   ]
  },
  {
   "cell_type": "code",
   "execution_count": 24,
   "metadata": {},
   "outputs": [
    {
     "data": {
      "image/png": "[encoded data removed]",
      "text/plain": [
       "<matplotlib.figure.Figure at 0x20d449b4588>"
      ]
     },
     "metadata": {},
     "output_type": "display_data"
    }
   ],
   "source": [
    "hyperParameterPlot(np.logspace(-4, 4, num=9),train_mean_hp, train_ci_hp, test_mean_hp, test_ci_hp )"
   ]
  },
  {
   "cell_type": "markdown",
   "metadata": {},
   "source": [
    "## Q4"
   ]
  },
  {
   "cell_type": "markdown",
   "metadata": {},
   "source": [
    "### (a)"
   ]
  },
  {
   "cell_type": "code",
   "execution_count": 25,
   "metadata": {},
   "outputs": [],
   "source": [
    "def dataSizeAC(data, clf, num_run):\n",
    "    \"\"\"\n",
    "    INPUT\n",
    "        data: Dataframe. Pre-processed data\n",
    "        clf: string. Name of the classifier from ['LR', 'SVM', 'NB']\n",
    "        params: string->real. Hyper-parameter of classifier. PS: c=1.0, r=0.01\n",
    "    \n",
    "    OUTPUT\n",
    "        test_mean_ds: list.  mean accuracy list of test\n",
    "        test_ci_ds: list. confidence interval list of test\n",
    "        train_mean_ds: list. mean accuracy list of train\n",
    "        train_ci_ds: list. confidence interval list of train\n",
    "        \n",
    "        \n",
    "        \n",
    "    NOTE \n",
    "        randomSplitCI could be the sub-route of this function\n",
    "    \"\"\"\n",
    "    data_percentage = np.linspace(0.1, 1, 10, endpoint=True)\n",
    "    \n",
    "    ########### your code goes here ###########\n",
    "    train_mean_ds = []\n",
    "    train_ci_ds = []\n",
    "    test_mean_ds = []\n",
    "    test_ci_ds = []\n",
    "    \n",
    "    count=0\n",
    "    for dp in data_percentage:\n",
    "        print(\"Round: \" , count)\n",
    "        count = count + 1\n",
    "\n",
    "        num = 0\n",
    "\n",
    "        train_scores = []\n",
    "        test_scores = []\n",
    "        if clf == 'LR':\n",
    "            clfType = LogisticRegression(C=0.1)\n",
    "        else:\n",
    "            clfType = GaussianNB()\n",
    "\n",
    "        column_df = data.columns[:-2]\n",
    "        column_df = list(column_df)\n",
    "\n",
    "        np.random.shuffle(column_df)\n",
    "\n",
    "        #feature_stop = int(num_feature*len(column_df))\n",
    "        #column_df = column_df[:feature_stop]\n",
    "        #print(column_df)\n",
    "\n",
    "        featureLabels=[]\n",
    "        for word in column_df:\n",
    "            featureLabels.append(word)\n",
    "\n",
    "        features_df = data[featureLabels]\n",
    "        features = features_df.as_matrix()\n",
    "\n",
    "        target_df= data['target']\n",
    "        target = target_df.as_matrix()\n",
    "\n",
    "        labels = data['label'].unique()\n",
    "        while num < num_run:\n",
    "            feature_train, feature_test, target_train, target_test = train_test_split(features, target, test_size = 0.3)\n",
    "            \n",
    "            \n",
    "            dpStopFeature = int(dp*len(feature_train))\n",
    "            feature_train_cut = feature_train[:dpStopFeature]\n",
    "            dpStopTarget = int(dp*len(target_train))\n",
    "            target_train_cut = target_train[:dpStopTarget]\n",
    "            \n",
    "            \n",
    "\n",
    "            clfModel = clfType.fit(feature_train_cut, target_train_cut, None)\n",
    "            target_pred_train = clfModel.predict(feature_train_cut)\n",
    "            target_pred_test = clfModel.predict(feature_test)\n",
    "\n",
    "            train_scores.append(metrics.accuracy_score(target_train_cut,target_pred_train))\n",
    "            test_scores.append(metrics.accuracy_score(target_test,target_pred_test))\n",
    "\n",
    "            num = num + 1\n",
    "\n",
    "            \n",
    "        train_mean, train_ci = mean_confidence_interval(train_scores)\n",
    "        test_mean, test_ci = mean_confidence_interval(test_scores)\n",
    "\n",
    "        train_mean_ds.append(train_mean)\n",
    "        train_ci_ds.append(train_ci)\n",
    "        test_mean_ds.append(test_mean)\n",
    "        test_ci_ds.append(test_ci)\n",
    "\n",
    "    \n",
    "\n",
    "    \n",
    "    \n",
    "    \n",
    "    \n",
    "    ###########         end         ###########\n",
    "    return train_mean_ds, train_ci_ds, test_mean_ds, test_ci_ds"
   ]
  },
  {
   "cell_type": "code",
   "execution_count": 26,
   "metadata": {},
   "outputs": [
    {
     "name": "stdout",
     "output_type": "stream",
     "text": [
      "Round:  0\n",
      "Round:  1\n",
      "Round:  2\n",
      "Round:  3\n",
      "Round:  4\n",
      "Round:  5\n",
      "Round:  6\n",
      "Round:  7\n",
      "Round:  8\n",
      "Round:  9\n"
     ]
    }
   ],
   "source": [
    "train_mean_ds, train_ci_ds, test_mean_ds, test_ci_ds = dataSizeAC(data, 'LR', 3)"
   ]
  },
  {
   "cell_type": "markdown",
   "metadata": {},
   "source": [
    "### (b)"
   ]
  },
  {
   "cell_type": "code",
   "execution_count": 27,
   "metadata": {
    "collapsed": true
   },
   "outputs": [],
   "source": [
    "def dataSizePlot(datasize, train_mean_ds, train_ci_ds, test_mean_ds, test_ci_ds):\n",
    "    # First illustrate basic pyplot interface, using defaults where possible.\n",
    "    plt.figure()\n",
    "    test_curve=plt.errorbar(datasize, test_mean_ds, color=sns.xkcd_rgb[\"pale red\"], yerr=test_ci_ds)\n",
    "    train_curve=plt.errorbar(datasize, train_mean_ds,color=sns.xkcd_rgb[\"denim blue\"], yerr=train_ci_ds)\n",
    "    plt.legend([test_curve, train_curve], ['Test', 'Train'])\n",
    "    plt.xlabel('Data Percentage')\n",
    "    plt.ylabel('Accuracy')\n",
    "    plt.title(\"Accuracy vs Data Percentage\")\n",
    "    plt.show()"
   ]
  },
  {
   "cell_type": "code",
   "execution_count": 28,
   "metadata": {},
   "outputs": [
    {
     "data": {
      "image/png": "[encoded data removed]",
      "text/plain": [
       "<matplotlib.figure.Figure at 0x20d44ba5e10>"
      ]
     },
     "metadata": {},
     "output_type": "display_data"
    }
   ],
   "source": [
    "dataSizePlot(np.linspace(0.1, 1, 10, endpoint=True),train_mean_ds, train_ci_ds, test_mean_ds, test_ci_ds)"
   ]
  },
  {
   "cell_type": "markdown",
   "metadata": {},
   "source": [
    "## Q5"
   ]
  },
  {
   "cell_type": "markdown",
   "metadata": {},
   "source": [
    "### (a)"
   ]
  },
  {
   "cell_type": "code",
   "execution_count": null,
   "metadata": {
    "collapsed": true
   },
   "outputs": [],
   "source": []
  },
  {
   "cell_type": "markdown",
   "metadata": {},
   "source": [
    "### (b)"
   ]
  },
  {
   "cell_type": "markdown",
   "metadata": {},
   "source": [
    "You should be able to get this answer easily by running dataPreprocessor fuction and randomSplitCI function"
   ]
  },
  {
   "cell_type": "code",
   "execution_count": null,
   "metadata": {
    "collapsed": true
   },
   "outputs": [],
   "source": []
  },
  {
   "cell_type": "markdown",
   "metadata": {},
   "source": [
    "## Q6"
   ]
  },
  {
   "cell_type": "markdown",
   "metadata": {},
   "source": [
    "### (a)"
   ]
  },
  {
   "cell_type": "code",
   "execution_count": null,
   "metadata": {
    "collapsed": true
   },
   "outputs": [],
   "source": []
  }
 ],
 "metadata": {
  "kernelspec": {
   "display_name": "Python [conda env:py35]",
   "language": "python",
   "name": "conda-env-py35-py"
  },
  "language_info": {
   "codemirror_mode": {
    "name": "ipython",
    "version": 3
   },
   "file_extension": ".py",
   "mimetype": "text/x-python",
   "name": "python",
   "nbconvert_exporter": "python",
   "pygments_lexer": "ipython3",
   "version": "3.5.3"
  }
 },
 "nbformat": 4,
 "nbformat_minor": 2
}
